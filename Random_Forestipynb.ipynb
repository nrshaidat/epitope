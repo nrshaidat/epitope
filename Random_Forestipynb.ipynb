{
  "nbformat": 4,
  "nbformat_minor": 0,
  "metadata": {
    "hide_code_all_hidden": false,
    "kernelspec": {
      "display_name": "Python 3",
      "language": "python",
      "name": "python3"
    },
    "language_info": {
      "codemirror_mode": {
        "name": "ipython",
        "version": 3
      },
      "file_extension": ".py",
      "mimetype": "text/x-python",
      "name": "python",
      "nbconvert_exporter": "python",
      "pygments_lexer": "ipython3",
      "version": "3.6.0"
    },
    "colab": {
      "name": " Random Forestipynb",
      "provenance": [],
      "toc_visible": true,
      "machine_shape": "hm",
      "include_colab_link": true
    },
    "accelerator": "GPU"
  },
  "cells": [
    {
      "cell_type": "markdown",
      "metadata": {
        "id": "view-in-github",
        "colab_type": "text"
      },
      "source": [
        "<a href=\"https://colab.research.google.com/github/nrshaidat/epitope/blob/master/Random_Forestipynb.ipynb\" target=\"_parent\"><img src=\"https://colab.research.google.com/assets/colab-badge.svg\" alt=\"Open In Colab\"/></a>"
      ]
    },
    {
      "cell_type": "markdown",
      "metadata": {
        "id": "nXenurAn1ax1"
      },
      "source": [
        "# Data Preparation"
      ]
    },
    {
      "cell_type": "markdown",
      "metadata": {
        "id": "jiEesc4uAyZy"
      },
      "source": [
        "**Data prep for only sequence random forest **\n",
        "\n",
        "\n",
        "---\n",
        "\n"
      ]
    },
    {
      "cell_type": "code",
      "metadata": {
        "hideCode": false,
        "hidePrompt": false,
        "id": "ZxCH0QI11ax1",
        "colab": {
          "base_uri": "https://localhost:8080/"
        },
        "outputId": "b48770a9-3b85-47ce-d3d1-c029caa2abeb"
      },
      "source": [
        "!pip install biopython\n",
        "import re\n",
        "import pandas as pd\n",
        "from Bio import SeqIO\n",
        "import os\n",
        "import numpy as np\n",
        "!pip install propy3\n",
        "from Bio.SeqUtils.ProtParam import ProteinAnalysis\n",
        "from Bio import SeqIO\n",
        "from propy import PyPro\n",
        "from propy.GetProteinFromUniprot import GetProteinSequence\n",
        "from propy import CTD\n",
        "from propy import AAComposition as AAC\n",
        "from propy import AAIndex\n",
        "from itertools import product\n",
        "from itertools import combinations\n",
        "def getEpitope(seq):\n",
        "  patterns= ['[A-Z]+']\n",
        "  for p in patterns:\n",
        "    match = re.findall(p, seq)\n",
        "    return match[0]\n",
        "def encode_proteins(seq, label):\n",
        "  DesObject = PyPro.GetProDes(seq)\n",
        "  ctd = DesObject.GetCTD()\n",
        "  aad = DesObject.GetAAComp()\n",
        "  aad.update(ctd)\n",
        "  aad['label'] = label\n",
        "  return aad\n",
        "block = ['A', 'R', 'N', 'D', 'C', 'E', 'Q', 'G', 'H', 'I', 'L', 'K', 'M', 'F', 'P', 'S', 'T', 'W', 'Y', 'V']\n",
        "all_comb = list(product(block, repeat=2))\n",
        "\n",
        "def dict_pairs(pairs):\n",
        "  index_pairs = {}\n",
        "  for i, pair in enumerate(pairs):\n",
        "    index_pairs[pair] = i\n",
        "  return index_pairs\n",
        "pair_d = dict_pairs(all_comb)\n",
        "def pairs(lst, k=2):\n",
        "    return list(zip(*[lst[i:] for i in range(k)]))\n",
        "\n",
        "def createMatrix(seq, dict_p, label):\n",
        "  protein = ProteinAnalysis(seq)\n",
        "  charge = protein.charge_at_pH(7.4)\n",
        "  gravy_score = protein.gravy() \n",
        "  instability_index = protein.instability_index()\n",
        "  s = len(dict_p.keys())+4\n",
        "  mat = np.zeros((s))\n",
        "  two_seq = pairs(seq, 2)\n",
        "  n = len(two_seq)\n",
        "  for i in two_seq:\n",
        "    ind = dict_p[i]\n",
        "    mat[ind] = mat[ind] + 1\n",
        "  mat=mat/n\n",
        "  mat[s-4] = label\n",
        "  mat[s-3] = charge\n",
        "  mat[s-2] = gravy_score\n",
        "  mat[s-1] = instability_index\n",
        "  return mat\n",
        "\n",
        "#!rm -rf epitope/\n",
        "!git clone https://github.com/nrshaidat/epitope.git\n",
        "!ls\n",
        "linear_epitopes = \"/content/epitope/data/iedb_linear_epitopes.fasta\"\n",
        "structural_epitopes = \"/content/epitope/data/pdb_chains.fasta\"\n",
        "db = []\n",
        "maxn = 0\n",
        "neg = 0\n",
        "column_names = list(pair_d.keys())\n",
        "column_names.append('label')\n",
        "column_names.append('charge')\n",
        "column_names.append('gravy')\n",
        "column_names.append('stability')\n",
        "for record in SeqIO.parse(linear_epitopes, \"fasta\"):\n",
        "    #print(record.id)\n",
        "    line = record.id.split('_')\n",
        "    seq = str(record.seq).upper()\n",
        "    epi = getEpitope(str(record.seq))\n",
        "    n = len(seq)\n",
        "    if line[0] == 'NegativeID':\n",
        "      neg+=1\n",
        "      row = createMatrix(epi, pair_d, 0)\n",
        "    else:\n",
        "      maxn = max(n, maxn)\n",
        "      row = createMatrix(epi, pair_d, 1)\n",
        "    db.append(row)\n",
        "df = pd.DataFrame(db,columns=column_names)\n",
        "print(df.shape)\n"
      ],
      "execution_count": 48,
      "outputs": [
        {
          "output_type": "stream",
          "text": [
            "Requirement already satisfied: biopython in /usr/local/lib/python3.6/dist-packages (1.78)\n",
            "Requirement already satisfied: numpy in /usr/local/lib/python3.6/dist-packages (from biopython) (1.18.5)\n",
            "Requirement already satisfied: propy3 in /usr/local/lib/python3.6/dist-packages (1.0.0a2)\n",
            "fatal: destination path 'epitope' already exists and is not an empty directory.\n",
            "epitope  sample_data\n",
            "(30556, 404)\n"
          ],
          "name": "stdout"
        }
      ]
    },
    {
      "cell_type": "markdown",
      "metadata": {
        "id": "X0wsDXUV1ax2"
      },
      "source": [
        "## Features and Labels"
      ]
    },
    {
      "cell_type": "code",
      "metadata": {
        "id": "LCxYvP4QXVWJ"
      },
      "source": [
        "import numpy as np\n",
        "\n",
        "# Label are the values we want to predict\n",
        "labels = np.array(df['label'])\n",
        "newdf = df.copy(deep = True)\n",
        "# Remove the labels from the features\n",
        "# axis 1 refers to the columns\n",
        "newdf = newdf.drop('label', axis = 1)\n",
        "# Saving feature names for later use\n",
        "feature_list = list(newdf.columns)\n",
        "# Convert to numpy array\n",
        "features = np.array(newdf)\n",
        "  \n"
      ],
      "execution_count": 49,
      "outputs": []
    },
    {
      "cell_type": "markdown",
      "metadata": {
        "id": "VjJ-X_0x1ax2"
      },
      "source": [
        "## Training and Testing Sets"
      ]
    },
    {
      "cell_type": "markdown",
      "metadata": {
        "id": "iNnQ34jwYTo7"
      },
      "source": [
        "** RFC Training/Testing Predictions and Accuracy/Error scores**\n",
        "\n",
        "\n",
        "---\n",
        "\n"
      ]
    },
    {
      "cell_type": "code",
      "metadata": {
        "id": "FKGT1XeI1ax2",
        "colab": {
          "base_uri": "https://localhost:8080/"
        },
        "outputId": "cdcc86fd-0f17-41ce-c7e2-5b71e5c6e42b"
      },
      "source": [
        "# Using Skicit-learn to split data into training and testing sets\n",
        "from sklearn.model_selection import train_test_split\n",
        "from sklearn.ensemble import RandomForestClassifier\n",
        "from sklearn.model_selection import cross_val_score\n",
        "from sklearn.metrics import confusion_matrix, classification_report\n",
        "# Split the data into training and testing sets\n",
        "train_features, test_features, train_labels, test_labels = train_test_split(features, labels, test_size = 0.2,random_state = 0)\n",
        "\n",
        "# Instantiate model \n",
        "#rf = RandomForestClassifier(random_state = 0, n_estimators=600, max_depth=420, max_features='sqrt')\n",
        "rf = RandomForestClassifier(random_state = 0, n_estimators=800, max_depth=250, max_features='sqrt', criterion = \"gini\")\n",
        "\n",
        "# Train the model on training data\n",
        "rf.fit(train_features, train_labels)\n",
        "# Use the forest's predict method on the test data\n",
        "predictions = rf.predict(test_features)\n",
        "# Calculate the absolute errors\n",
        "correct = 0\n",
        "incorrect = 0\n",
        "for pred, true_prediction in zip(predictions, test_labels):\n",
        "  #correct += pred == true_prediction\n",
        "  if pred == true_prediction:\n",
        "    correct+=1\n",
        "  else:\n",
        "    incorrect+=1\n",
        "  #incorrect += (pred != true_prediction)\n",
        "accuracy = ((correct * 1.0) / len(test_labels))*100\n",
        "error = ((incorrect * 1.0)/len(test_labels))\n",
        "\n",
        "const = 1.96\n",
        "conf =  const * np.sqrt((error * (1 - error)) / len(test_labels))\n",
        "print(accuracy)\n",
        "print(error*100)\n",
        "print(str(error)+ \" +/- \" + str(conf))\n",
        "rf_cv_score = cross_val_score(rf, features, labels, cv=10, scoring='roc_auc')\n",
        "print(\"=== Confusion Matrix ===\")\n",
        "print(confusion_matrix(test_labels, predictions))\n",
        "print('\\n')\n",
        "print(\"=== Classification Report ===\")\n",
        "print(classification_report(test_labels, predictions))\n",
        "print('\\n')\n",
        "print(\"=== All AUC Scores ===\")\n",
        "print(rf_cv_score)\n",
        "print('\\n')\n",
        "print(\"=== Mean AUC Score ===\")\n",
        "print(\"Mean AUC Score - Random Forest: \", rf_cv_score.mean())"
      ],
      "execution_count": 51,
      "outputs": [
        {
          "output_type": "stream",
          "text": [
            "78.25589005235602\n",
            "21.74410994764398\n",
            "0.2174410994764398 +/- 0.010341742830522001\n"
          ],
          "name": "stdout"
        }
      ]
    },
    {
      "cell_type": "markdown",
      "metadata": {
        "id": "NEHNnlgk1ax3"
      },
      "source": [
        "We can create models with different hyperparameters to try and boost performance. The only way to find the best ones\n",
        "are to try a few and evaluate them! "
      ]
    },
    {
      "cell_type": "markdown",
      "metadata": {
        "id": "-ppjq3H71ax3"
      },
      "source": [
        "## Make Predictions on Test Data"
      ]
    },
    {
      "cell_type": "markdown",
      "metadata": {
        "id": "-oN8vfg9ZaZJ"
      },
      "source": [
        "Hyper Parameter Optimizations:\n",
        "\n",
        "\n"
      ]
    },
    {
      "cell_type": "code",
      "metadata": {
        "id": "pahCE0h288cj",
        "colab": {
          "base_uri": "https://localhost:8080/"
        },
        "outputId": "17092c60-44b0-451a-ca01-d4f09c1725ff"
      },
      "source": [
        "from sklearn.model_selection import RandomizedSearchCV\n",
        "# number of trees in random forest\n",
        "n_estimators = [int(x) for x in np.linspace(start = 200, stop = 2000, num = 10)]\n",
        "# number of features at every split\n",
        "max_features = ['auto', 'sqrt']\n",
        "\n",
        "# max depth\n",
        "max_depth = [int(x) for x in np.linspace(100, 600, num = 11)]\n",
        "max_depth.append(None)\n",
        "criterions = ['gini', 'entropy']\n",
        "# create random grid\n",
        "random_grid = {\n",
        " 'n_estimators': n_estimators,\n",
        " 'max_features': max_features,\n",
        " 'max_depth': max_depth,\n",
        " 'criterion':criterions\n",
        " }\n",
        "# Random search of parameters\n",
        "rf_random = RandomizedSearchCV(estimator = rf, param_distributions = random_grid, n_iter = 10, cv = 3, verbose=2,random_state=42)\n",
        "# Fit the model\n",
        "rf_random.fit(train_features, train_labels)\n",
        "# print results\n",
        "print(rf_random.best_params_)"
      ],
      "execution_count": null,
      "outputs": [
        {
          "output_type": "stream",
          "text": [
            "Fitting 3 folds for each of 10 candidates, totalling 30 fits\n",
            "[CV] n_estimators=800, max_features=sqrt, max_depth=250, criterion=gini \n"
          ],
          "name": "stdout"
        },
        {
          "output_type": "stream",
          "text": [
            "[Parallel(n_jobs=1)]: Using backend SequentialBackend with 1 concurrent workers.\n"
          ],
          "name": "stderr"
        },
        {
          "output_type": "stream",
          "text": [
            "[CV]  n_estimators=800, max_features=sqrt, max_depth=250, criterion=gini, total=  41.9s\n",
            "[CV] n_estimators=800, max_features=sqrt, max_depth=250, criterion=gini \n"
          ],
          "name": "stdout"
        },
        {
          "output_type": "stream",
          "text": [
            "[Parallel(n_jobs=1)]: Done   1 out of   1 | elapsed:   41.9s remaining:    0.0s\n"
          ],
          "name": "stderr"
        },
        {
          "output_type": "stream",
          "text": [
            "[CV]  n_estimators=800, max_features=sqrt, max_depth=250, criterion=gini, total=  40.2s\n",
            "[CV] n_estimators=800, max_features=sqrt, max_depth=250, criterion=gini \n",
            "[CV]  n_estimators=800, max_features=sqrt, max_depth=250, criterion=gini, total=  40.4s\n",
            "[CV] n_estimators=1000, max_features=sqrt, max_depth=500, criterion=entropy \n",
            "[CV]  n_estimators=1000, max_features=sqrt, max_depth=500, criterion=entropy, total=  58.6s\n",
            "[CV] n_estimators=1000, max_features=sqrt, max_depth=500, criterion=entropy \n",
            "[CV]  n_estimators=1000, max_features=sqrt, max_depth=500, criterion=entropy, total=  57.8s\n",
            "[CV] n_estimators=1000, max_features=sqrt, max_depth=500, criterion=entropy \n",
            "[CV]  n_estimators=1000, max_features=sqrt, max_depth=500, criterion=entropy, total=  58.4s\n",
            "[CV] n_estimators=1000, max_features=sqrt, max_depth=450, criterion=entropy \n",
            "[CV]  n_estimators=1000, max_features=sqrt, max_depth=450, criterion=entropy, total=  59.2s\n",
            "[CV] n_estimators=1000, max_features=sqrt, max_depth=450, criterion=entropy \n",
            "[CV]  n_estimators=1000, max_features=sqrt, max_depth=450, criterion=entropy, total=  58.2s\n",
            "[CV] n_estimators=1000, max_features=sqrt, max_depth=450, criterion=entropy \n",
            "[CV]  n_estimators=1000, max_features=sqrt, max_depth=450, criterion=entropy, total=  57.8s\n",
            "[CV] n_estimators=1600, max_features=sqrt, max_depth=150, criterion=entropy \n",
            "[CV]  n_estimators=1600, max_features=sqrt, max_depth=150, criterion=entropy, total= 1.5min\n",
            "[CV] n_estimators=1600, max_features=sqrt, max_depth=150, criterion=entropy \n",
            "[CV]  n_estimators=1600, max_features=sqrt, max_depth=150, criterion=entropy, total= 1.5min\n",
            "[CV] n_estimators=1600, max_features=sqrt, max_depth=150, criterion=entropy \n",
            "[CV]  n_estimators=1600, max_features=sqrt, max_depth=150, criterion=entropy, total= 1.5min\n",
            "[CV] n_estimators=2000, max_features=sqrt, max_depth=450, criterion=entropy \n",
            "[CV]  n_estimators=2000, max_features=sqrt, max_depth=450, criterion=entropy, total= 1.9min\n",
            "[CV] n_estimators=2000, max_features=sqrt, max_depth=450, criterion=entropy \n",
            "[CV]  n_estimators=2000, max_features=sqrt, max_depth=450, criterion=entropy, total= 1.9min\n",
            "[CV] n_estimators=2000, max_features=sqrt, max_depth=450, criterion=entropy \n",
            "[CV]  n_estimators=2000, max_features=sqrt, max_depth=450, criterion=entropy, total= 1.9min\n",
            "[CV] n_estimators=600, max_features=sqrt, max_depth=500, criterion=gini \n",
            "[CV]  n_estimators=600, max_features=sqrt, max_depth=500, criterion=gini, total=  29.7s\n",
            "[CV] n_estimators=600, max_features=sqrt, max_depth=500, criterion=gini \n",
            "[CV]  n_estimators=600, max_features=sqrt, max_depth=500, criterion=gini, total=  30.2s\n",
            "[CV] n_estimators=600, max_features=sqrt, max_depth=500, criterion=gini \n",
            "[CV]  n_estimators=600, max_features=sqrt, max_depth=500, criterion=gini, total=  29.9s\n",
            "[CV] n_estimators=1800, max_features=auto, max_depth=150, criterion=entropy \n",
            "[CV]  n_estimators=1800, max_features=auto, max_depth=150, criterion=entropy, total= 1.7min\n",
            "[CV] n_estimators=1800, max_features=auto, max_depth=150, criterion=entropy \n",
            "[CV]  n_estimators=1800, max_features=auto, max_depth=150, criterion=entropy, total= 1.7min\n",
            "[CV] n_estimators=1800, max_features=auto, max_depth=150, criterion=entropy \n",
            "[CV]  n_estimators=1800, max_features=auto, max_depth=150, criterion=entropy, total= 1.7min\n",
            "[CV] n_estimators=1200, max_features=sqrt, max_depth=400, criterion=entropy \n",
            "[CV]  n_estimators=1200, max_features=sqrt, max_depth=400, criterion=entropy, total= 1.2min\n",
            "[CV] n_estimators=1200, max_features=sqrt, max_depth=400, criterion=entropy \n",
            "[CV]  n_estimators=1200, max_features=sqrt, max_depth=400, criterion=entropy, total= 1.2min\n",
            "[CV] n_estimators=1200, max_features=sqrt, max_depth=400, criterion=entropy \n",
            "[CV]  n_estimators=1200, max_features=sqrt, max_depth=400, criterion=entropy, total= 1.2min\n",
            "[CV] n_estimators=1600, max_features=sqrt, max_depth=250, criterion=gini \n",
            "[CV]  n_estimators=1600, max_features=sqrt, max_depth=250, criterion=gini, total= 1.3min\n",
            "[CV] n_estimators=1600, max_features=sqrt, max_depth=250, criterion=gini \n",
            "[CV]  n_estimators=1600, max_features=sqrt, max_depth=250, criterion=gini, total= 1.3min\n",
            "[CV] n_estimators=1600, max_features=sqrt, max_depth=250, criterion=gini \n",
            "[CV]  n_estimators=1600, max_features=sqrt, max_depth=250, criterion=gini, total= 1.3min\n",
            "[CV] n_estimators=600, max_features=auto, max_depth=600, criterion=entropy \n",
            "[CV]  n_estimators=600, max_features=auto, max_depth=600, criterion=entropy, total=  35.3s\n",
            "[CV] n_estimators=600, max_features=auto, max_depth=600, criterion=entropy \n",
            "[CV]  n_estimators=600, max_features=auto, max_depth=600, criterion=entropy, total=  34.7s\n",
            "[CV] n_estimators=600, max_features=auto, max_depth=600, criterion=entropy \n",
            "[CV]  n_estimators=600, max_features=auto, max_depth=600, criterion=entropy, total=  35.2s\n"
          ],
          "name": "stdout"
        },
        {
          "output_type": "stream",
          "text": [
            "[Parallel(n_jobs=1)]: Done  30 out of  30 | elapsed: 34.1min finished\n"
          ],
          "name": "stderr"
        },
        {
          "output_type": "stream",
          "text": [
            "{'n_estimators': 800, 'max_features': 'sqrt', 'max_depth': 250, 'criterion': 'gini'}\n"
          ],
          "name": "stdout"
        }
      ]
    },
    {
      "cell_type": "markdown",
      "metadata": {
        "id": "kBaPs8IxZ0W5"
      },
      "source": [
        "Model Threshold Accuracy:"
      ]
    },
    {
      "cell_type": "code",
      "metadata": {
        "colab": {
          "base_uri": "https://localhost:8080/",
          "height": 1000
        },
        "id": "TkmfzISyrSqs",
        "outputId": "8b8f99ee-824f-40c9-e589-500511550855"
      },
      "source": [
        "from sklearn.model_selection import train_test_split, GridSearchCV, StratifiedKFold\n",
        "from sklearn.metrics import roc_curve, precision_recall_curve, auc, make_scorer, recall_score, accuracy_score, precision_score, confusion_matrix\n",
        "from matplotlib import pyplot as plt\n",
        "y_scores = rf.predict_proba(test_features)[:, 1]\n",
        "p, r, thresholds = precision_recall_curve(test_labels, y_scores)\n",
        "def adjusted_classes(y_scores, t):\n",
        "    \"\"\"\n",
        "    This function adjusts class predictions based on the prediction threshold (t).\n",
        "    Will only work for binary classification problems.\n",
        "    \"\"\"\n",
        "    return [1 if y >= t else 0 for y in y_scores]\n",
        "\n",
        "def precision_recall_threshold(p, r, thresholds, t=0.5):\n",
        "    \"\"\"\n",
        "    plots the precision recall curve and shows the current value for each\n",
        "    by identifying the classifier's threshold (t).\n",
        "    \"\"\"\n",
        "    \n",
        "    # generate new class predictions based on the adjusted_classes\n",
        "    # function above and view the resulting confusion matrix.\n",
        "    y_pred_adj = adjusted_classes(y_scores, t)\n",
        "    print(pd.DataFrame(confusion_matrix(test_labels, y_pred_adj),\n",
        "                       columns=['pred_neg', 'pred_pos'], \n",
        "                       index=['neg', 'pos']))\n",
        "    \n",
        "    # plot the curve\n",
        "    plt.figure(figsize=(8,8))\n",
        "    plt.title(\"Precision and Recall curve ^ = current threshold\")\n",
        "    plt.step(r, p, color='b', alpha=0.2,\n",
        "             where='post')\n",
        "    plt.fill_between(r, p, step='post', alpha=0.2,\n",
        "                     color='b')\n",
        "    plt.ylim([0.5, 1.01]);\n",
        "    plt.xlim([0.5, 1.01]);\n",
        "    plt.xlabel('Recall');\n",
        "    plt.ylabel('Precision');\n",
        "    \n",
        "    # plot the current threshold on the line\n",
        "    close_default_clf = np.argmin(np.abs(thresholds - t))\n",
        "    plt.plot(r[close_default_clf], p[close_default_clf], '^', c='k',\n",
        "            markersize=15)\n",
        "def plot_precision_recall_vs_threshold(precisions, recalls, thresholds):\n",
        "    \"\"\"\n",
        "    Modified from:\n",
        "    Hands-On Machine learning with Scikit-Learn\n",
        "    and TensorFlow; p.89\n",
        "    \"\"\"\n",
        "    plt.figure(figsize=(8, 8))\n",
        "    plt.title(\"Precision and Recall Scores as a function of the decision threshold\")\n",
        "    plt.plot(thresholds, precisions[:-1], \"b--\", label=\"Precision\")\n",
        "    plt.plot(thresholds, recalls[:-1], \"g-\", label=\"Recall\")\n",
        "    plt.ylabel(\"Score\")\n",
        "    plt.xlabel(\"Decision Threshold\")\n",
        "    plt.legend(loc='best')\n",
        "precision_recall_threshold(p, r, thresholds, 0.95)\n",
        "plot_precision_recall_vs_threshold(p, r, thresholds)\n"
      ],
      "execution_count": null,
      "outputs": [
        {
          "output_type": "stream",
          "text": [
            "     pred_neg  pred_pos\n",
            "neg      3767         0\n",
            "pos      2311        34\n"
          ],
          "name": "stdout"
        },
        {
          "output_type": "display_data",
          "data": {
            "image/png": "[encoded data removed]",
            "text/plain": [
              "<Figure size 576x576 with 1 Axes>"
            ]
          },
          "metadata": {
            "tags": [],
            "needs_background": "light"
          }
        },
        {
          "output_type": "display_data",
          "data": {
            "image/png": "[encoded data removed]",
            "text/plain": [
              "<Figure size 576x576 with 1 Axes>"
            ]
          },
          "metadata": {
            "tags": [],
            "needs_background": "light"
          }
        }
      ]
    },
    {
      "cell_type": "markdown",
      "metadata": {
        "id": "WU1sgju1AFtW"
      },
      "source": [
        "Plot Decision Trees:"
      ]
    },
    {
      "cell_type": "code",
      "metadata": {
        "id": "mfjDpAdL9XvA"
      },
      "source": [
        "# Import tools needed for visualization\n",
        "from sklearn.tree import export_graphviz\n",
        "import pydot\n",
        "feature_list = list(newdf.columns)\n",
        "# Pull out one tree from the forest\n",
        "tree = rf.estimators_[5]\n",
        "# Import tools needed for visualization\n",
        "from sklearn.tree import export_graphviz\n",
        "import pydot\n",
        "# Pull out one tree from the forest\n",
        "tree = rf.estimators_[5]\n",
        "# Export the image to a dot file\n",
        "export_graphviz(tree, out_file = 'tree.dot', feature_names = feature_list, rounded = True, precision = 1)\n",
        "# Use dot file to create a graph\n",
        "(graph, ) = pydot.graph_from_dot_file('tree.dot')\n",
        "# Write graph to a png file\n",
        "graph.write_png('tree.png')\n",
        "# Limit depth of tree to 3 levels\n",
        "rf_small = RandomForestClassifier(n_estimators=10, max_depth = 4, criterion='entropy')\n",
        "rf_small.fit(train_features, train_labels)\n",
        "# Extract the small tree\n",
        "tree_small = rf_small.estimators_[5]\n",
        "# Save the tree as a png image\n",
        "export_graphviz(tree_small, out_file = 'mid_tree.dot', feature_names = feature_list, rounded = True, precision = 1)\n",
        "(graph, ) = pydot.graph_from_dot_file('mid_tree.dot')\n",
        "graph.write_png('mid_tree.png');"
      ],
      "execution_count": null,
      "outputs": []
    },
    {
      "cell_type": "markdown",
      "metadata": {
        "id": "pIdKfe3YMYsu"
      },
      "source": [
        "**Test On Spike Protein:**\n",
        "\n",
        "\n",
        "---\n",
        "\n",
        "\n",
        "\n",
        "\n",
        "\n"
      ]
    },
    {
      "cell_type": "markdown",
      "metadata": {
        "id": "tUxw78gsMmOn"
      },
      "source": [
        "Test on RF with chemical features only: \n",
        "\n",
        "1.  Test whole spike protein \n",
        "2.  Test on subsequences of the spike protein \n",
        "\n",
        "\n",
        "\n",
        "---\n",
        "\n"
      ]
    },
    {
      "cell_type": "code",
      "metadata": {
        "id": "_Y4l7MKK1ax3",
        "colab": {
          "base_uri": "https://localhost:8080/"
        },
        "outputId": "9bcdcb7b-f36e-4559-b005-54aa1a8a9f0c"
      },
      "source": [
        "from Bio.SeqUtils.IsoelectricPoint import IsoelectricPoint as IP\n",
        "from Bio.SeqUtils.ProtParam import ProteinAnalysis\n",
        "blood_ph = 7.40\n",
        "def encode_proteins(seq, label):\n",
        "  DesObject = PyPro.GetProDes(seq)\n",
        "  ctd = DesObject.GetCTD()\n",
        "  aad = DesObject.GetAAComp()\n",
        "  aad.update(ctd)\n",
        "  aad['label'] = label\n",
        "  return aad\n",
        "block = ['A', 'R', 'N', 'D', 'C', 'E', 'Q', 'G', 'H', 'I', 'L', 'K', 'M', 'F', 'P', 'S', 'T', 'W', 'Y', 'V']\n",
        "all_comb = list(product(block, repeat=2))\n",
        "\n",
        "def dict_pairs(pairs):\n",
        "  index_pairs = {}\n",
        "  for i, pair in enumerate(pairs):\n",
        "    index_pairs[pair] = i\n",
        "  return index_pairs\n",
        "pair_d = dict_pairs(all_comb)\n",
        "def pairs(lst, k=2):\n",
        "    return list(zip(*[lst[i:] for i in range(k)]))\n",
        "\n",
        "def createMatrix(seq, dict_p):\n",
        "  protein = ProteinAnalysis(seq)\n",
        "  charge = protein.charge_at_pH(7.4)\n",
        "  gravy_score = protein.gravy() \n",
        "  instability_index = protein.instability_index()\n",
        "  mat = np.zeros((403))\n",
        "  two_seq = pairs(seq, 2)\n",
        "  n = len(two_seq)\n",
        "  for i in two_seq:\n",
        "    ind = dict_p[i]\n",
        "    mat[ind] = mat[ind] + 1\n",
        "  mat=mat/n\n",
        "  mat[400] = charge\n",
        "  mat[401] = gravy_score\n",
        "  mat[402] = instability_index\n",
        "  return mat\n",
        "def split_sequence(sequence, subsequence_length):\n",
        "  peptide_list = []\n",
        "  num = len(sequence.strip()) - subsequence_length + 1\n",
        "  for i in range(num):\n",
        "    peptide = sequence[i:i + subsequence_length]\n",
        "    peptide_list.append(peptide)\n",
        "  return peptide_list\n",
        "spikeseq = \"MFVFLVLLPLVSSQCVNLTTRTQLPPAYTNSFTRGVYYPDKVFRSSVLHSTQDLFLPFFSNVTWFHAIHVSGTNGTKRFDNPVLPFNDGVYFASTEKSNIIRGWIFGTTLDSKTQSLLIVNNATNVVIKVCEFQFCNDPFLGVYYHKNNKSWMESEFRVYSSANNCTFEYVSQPFLMDLEGKQGNFKNLREFVFKNIDGYFKIYSKHTPINLVRDLPQGFSALEPLVDLPIGINITRFQTLLALHRSYLTPGDSSSGWTAGAAAYYVGYLQPRTFLLKYENGTITDAVDCALDPLSETKCTLKSFTVEKGIYQTSNFRVQPTESIVRFPNITNLCPFGEVFNATRFASVYAWNRKRISNCVADYSVLYNSASFSTFKCYGVSPTKLNDLCFTNVYADSFVIRGDEVRQIAPGQTGKIADYNYKLPDDFTGCVIAWNSNNLDSKVGGNYNYLYRLFRKSNLKPFERDISTEIYQAGSTPCNGVEGFNCYFPLQSYGFQPTNGVGYQPYRVVVLSFELLHAPATVCGPKKSTNLVKNKCVNFNFNGLTGTGVLTESNKKFLPFQQFGRDIADTTDAVRDPQTLEILDITPCSFGGVSVITPGTNTSNQVAVLYQDVNCTEVPVAIHADQLTPTWRVYSTGSNVFQTRAGCLIGAEHVNNSYECDIPIGAGICASYQTQTNSPRRARSVASQSIIAYTMSLGAENSVAYSNNSIAIPTNFTISVTTEILPVSMTKTSVDCTMYICGDSTECSNLLLQYGSFCTQLNRALTGIAVEQDKNTQEVFAQVKQIYKTPPIKDFGGFNFSQILPDPSKPSKRSFIEDLLFNKVTLADAGFIKQYGDCLGDIAARDLICAQKFNGLTVLPPLLTDEMIAQYTSALLAGTITSGWTFGAGAALQIPFAMQMAYRFNGIGVTQNVLYENQKLIANQFNSAIGKIQDSLSSTASALGKLQDVVNQNAQALNTLVKQLSSNFGAISSVLNDILSRLDKVEAEVQIDRLITGRLQSLQTYVTQQLIRAAEIRASANLAATKMSECVLGQSKRVDFCGKGYHLMSFPQSAPHGVVFLHVTYVPAQEKNFTTAPAICHDGKAHFPREGVFVSNGTHWFVTQRNFYEPQIITTDNTFVSGNCDVVIGIVNNTVYDPLQPELDSFKEELDKYFKNHTSPDVDLGDISGINASVVNIQKEIDRLNEVAKNLNESLIDLQELGKYEQYIKWPWYIWLGFIAGLIAIVMVTIMLCCMTSCCSCLKGCCSCGSCCKFDEDDSEPVLKGVKLHYT\"\n",
        "peptide_epitopes = dict()\n",
        "max_conf = 0\n",
        "max_epitope =\"\"\n",
        "num_epitopes = 0\n",
        "num_non = 0\n",
        "for i in range(6, 26): # do from 5 to 26\n",
        "  #spike_peptides = [spikeseq[i:i + 16] for i in range(0, 1265, 16)]\n",
        "  spike_peptides = split_sequence(spikeseq, i)\n",
        "  #spike_peptides.append(spikeseq)\n",
        "  for peptide in spike_peptides:\n",
        "    peptide_vals = createMatrix(peptide, pair_d)\n",
        "    pred = rf.predict(np.array(peptide_vals).reshape(1,-1))\n",
        "    prob  = rf.predict_proba(np.array(peptide_vals).reshape(1,-1))\n",
        "    if pred[0] == 1:\n",
        "      conf = prob[0][int(pred[0])]\n",
        "      if conf > 0.8:\n",
        "        print(peptide)\n",
        "        print(conf)\n",
        "        peptide_epitopes[peptide] = conf\n",
        "        max_epitope = peptide\n",
        "        max_conf = conf\n",
        "        num_epitopes +=1\n",
        "    else:\n",
        "      num_non +=1\n",
        "print(num_epitopes)\n",
        "print(num_non)\n",
        "print(max_conf)\n",
        "print(max_epitope)\n",
        "print(peptide_epitopes)\n",
        "\n",
        "# ALTGIAVEQDKNTQEVFAQVKQI\n",
        "# 1 probability \n",
        "\n"
      ],
      "execution_count": null,
      "outputs": [
        {
          "output_type": "stream",
          "text": [
            "QFCNDP\n",
            "0.80375\n",
            "AWNSNN\n",
            "0.82875\n",
            "GYQPYR\n",
            "0.805\n",
            "GYQPYRV\n",
            "0.85\n",
            "VRFPNITNLCPFGEVFN\n",
            "0.80875\n",
            "PFAMQMAYRFNGIGVTQ\n",
            "0.885\n",
            "FAMQMAYRFNGIGVTQN\n",
            "0.805\n",
            "AMQMAYRFNGIGVTQNV\n",
            "0.80875\n",
            "QMAYRFNGIGVTQNVLY\n",
            "0.8175\n",
            "MAYRFNGIGVTQNVLYE\n",
            "0.885\n",
            "AYRFNGIGVTQNVLYEN\n",
            "0.83375\n",
            "KLQDVVNQNAQALNTLV\n",
            "0.80125\n",
            "LQDVVNQNAQALNTLVK\n",
            "0.833125\n",
            "QDVVNQNAQALNTLVKQ\n",
            "0.81375\n",
            "DVVNQNAQALNTLVKQL\n",
            "0.88125\n",
            "VVNQNAQALNTLVKQLS\n",
            "0.83625\n",
            "VNQNAQALNTLVKQLSS\n",
            "0.81875\n",
            "AISSVLNDILSRLDKVE\n",
            "0.87\n",
            "ISSVLNDILSRLDKVEA\n",
            "0.83375\n",
            "SSVLNDILSRLDKVEAE\n",
            "0.8075\n",
            "SVLNDILSRLDKVEAEV\n",
            "0.80375\n",
            "VLNDILSRLDKVEAEVQ\n",
            "0.81\n",
            "DILSRLDKVEAEVQIDR\n",
            "0.80875\n",
            "ILSRLDKVEAEVQIDRL\n",
            "0.83875\n",
            "EAEVQIDRLITGRLQSL\n",
            "0.83625\n",
            "RLITGRLQSLQTYVTQQ\n",
            "0.84625\n",
            "QLIRAAEIRASANLAAT\n",
            "0.87\n",
            "LIRAAEIRASANLAATK\n",
            "0.80875\n",
            "EELDKYFKNHTSPDVDL\n",
            "0.81\n",
            "YFKNHTSPDVDLGDISG\n",
            "0.80125\n",
            "KNHTSPDVDLGDISGIN\n",
            "0.86875\n",
            "VYYHKNNKSWMESEFRVY\n",
            "0.80375\n",
            "PFAMQMAYRFNGIGVTQN\n",
            "0.8225\n",
            "QMAYRFNGIGVTQNVLYE\n",
            "0.82375\n",
            "MAYRFNGIGVTQNVLYEN\n",
            "0.8325\n",
            "AYRFNGIGVTQNVLYENQ\n",
            "0.81125\n",
            "LGKLQDVVNQNAQALNTL\n",
            "0.81\n",
            "GKLQDVVNQNAQALNTLV\n",
            "0.80375\n",
            "LQDVVNQNAQALNTLVKQ\n",
            "0.826875\n",
            "QDVVNQNAQALNTLVKQL\n",
            "0.8475\n",
            "DVVNQNAQALNTLVKQLS\n",
            "0.85125\n",
            "VVNQNAQALNTLVKQLSS\n",
            "0.8175\n",
            "VNQNAQALNTLVKQLSSN\n",
            "0.80375\n",
            "GAISSVLNDILSRLDKVE\n",
            "0.84125\n",
            "AISSVLNDILSRLDKVEA\n",
            "0.805\n",
            "ISSVLNDILSRLDKVEAE\n",
            "0.80625\n",
            "SSVLNDILSRLDKVEAEV\n",
            "0.81\n",
            "SVLNDILSRLDKVEAEVQ\n",
            "0.80875\n",
            "ILSRLDKVEAEVQIDRLI\n",
            "0.8025\n",
            "KNHTSPDVDLGDISGINA\n",
            "0.82\n",
            "GVYYHKNNKSWMESEFRVY\n",
            "0.815\n",
            "VYYHKNNKSWMESEFRVYS\n",
            "0.8175\n",
            "YYHKNNKSWMESEFRVYSS\n",
            "0.80875\n",
            "LQDVVNQNAQALNTLVKQL\n",
            "0.828125\n",
            "QDVVNQNAQALNTLVKQLS\n",
            "0.82375\n",
            "DVVNQNAQALNTLVKQLSS\n",
            "0.80875\n",
            "VVNQNAQALNTLVKQLSSN\n",
            "0.8075\n",
            "AISSVLNDILSRLDKVEAE\n",
            "0.805\n",
            "VIGIVNNTVYDPLQPELDS\n",
            "0.815\n",
            "SGINASVVNIQKEIDRLNE\n",
            "0.81125\n",
            "GINASVVNIQKEIDRLNEV\n",
            "0.8075\n",
            "VVIGIVNNTVYDPLQPELDS\n",
            "0.80625\n",
            "VIGIVNNTVYDPLQPELDSF\n",
            "0.82125\n",
            "DISGINASVVNIQKEIDRLN\n",
            "0.811875\n",
            "ISGINASVVNIQKEIDRLNE\n",
            "0.855625\n",
            "SGINASVVNIQKEIDRLNEV\n",
            "0.829375\n",
            "LQDVVNQNAQALNTLVKQLSS\n",
            "0.803125\n",
            "SVLNDILSRLDKVEAEVQIDR\n",
            "0.80625\n",
            "GDISGINASVVNIQKEIDRLN\n",
            "0.818125\n",
            "DISGINASVVNIQKEIDRLNE\n",
            "0.815625\n",
            "SSVLNDILSRLDKVEAEVQIDR\n",
            "0.80125\n",
            "SRLDKVEAEVQIDRLITGRLQSL\n",
            "0.8025\n",
            "72\n",
            "12639\n",
            "0.8025\n",
            "SRLDKVEAEVQIDRLITGRLQSL\n",
            "{'QFCNDP': 0.80375, 'AWNSNN': 0.82875, 'GYQPYR': 0.805, 'GYQPYRV': 0.85, 'VRFPNITNLCPFGEVFN': 0.80875, 'PFAMQMAYRFNGIGVTQ': 0.885, 'FAMQMAYRFNGIGVTQN': 0.805, 'AMQMAYRFNGIGVTQNV': 0.80875, 'QMAYRFNGIGVTQNVLY': 0.8175, 'MAYRFNGIGVTQNVLYE': 0.885, 'AYRFNGIGVTQNVLYEN': 0.83375, 'KLQDVVNQNAQALNTLV': 0.80125, 'LQDVVNQNAQALNTLVK': 0.833125, 'QDVVNQNAQALNTLVKQ': 0.81375, 'DVVNQNAQALNTLVKQL': 0.88125, 'VVNQNAQALNTLVKQLS': 0.83625, 'VNQNAQALNTLVKQLSS': 0.81875, 'AISSVLNDILSRLDKVE': 0.87, 'ISSVLNDILSRLDKVEA': 0.83375, 'SSVLNDILSRLDKVEAE': 0.8075, 'SVLNDILSRLDKVEAEV': 0.80375, 'VLNDILSRLDKVEAEVQ': 0.81, 'DILSRLDKVEAEVQIDR': 0.80875, 'ILSRLDKVEAEVQIDRL': 0.83875, 'EAEVQIDRLITGRLQSL': 0.83625, 'RLITGRLQSLQTYVTQQ': 0.84625, 'QLIRAAEIRASANLAAT': 0.87, 'LIRAAEIRASANLAATK': 0.80875, 'EELDKYFKNHTSPDVDL': 0.81, 'YFKNHTSPDVDLGDISG': 0.80125, 'KNHTSPDVDLGDISGIN': 0.86875, 'VYYHKNNKSWMESEFRVY': 0.80375, 'PFAMQMAYRFNGIGVTQN': 0.8225, 'QMAYRFNGIGVTQNVLYE': 0.82375, 'MAYRFNGIGVTQNVLYEN': 0.8325, 'AYRFNGIGVTQNVLYENQ': 0.81125, 'LGKLQDVVNQNAQALNTL': 0.81, 'GKLQDVVNQNAQALNTLV': 0.80375, 'LQDVVNQNAQALNTLVKQ': 0.826875, 'QDVVNQNAQALNTLVKQL': 0.8475, 'DVVNQNAQALNTLVKQLS': 0.85125, 'VVNQNAQALNTLVKQLSS': 0.8175, 'VNQNAQALNTLVKQLSSN': 0.80375, 'GAISSVLNDILSRLDKVE': 0.84125, 'AISSVLNDILSRLDKVEA': 0.805, 'ISSVLNDILSRLDKVEAE': 0.80625, 'SSVLNDILSRLDKVEAEV': 0.81, 'SVLNDILSRLDKVEAEVQ': 0.80875, 'ILSRLDKVEAEVQIDRLI': 0.8025, 'KNHTSPDVDLGDISGINA': 0.82, 'GVYYHKNNKSWMESEFRVY': 0.815, 'VYYHKNNKSWMESEFRVYS': 0.8175, 'YYHKNNKSWMESEFRVYSS': 0.80875, 'LQDVVNQNAQALNTLVKQL': 0.828125, 'QDVVNQNAQALNTLVKQLS': 0.82375, 'DVVNQNAQALNTLVKQLSS': 0.80875, 'VVNQNAQALNTLVKQLSSN': 0.8075, 'AISSVLNDILSRLDKVEAE': 0.805, 'VIGIVNNTVYDPLQPELDS': 0.815, 'SGINASVVNIQKEIDRLNE': 0.81125, 'GINASVVNIQKEIDRLNEV': 0.8075, 'VVIGIVNNTVYDPLQPELDS': 0.80625, 'VIGIVNNTVYDPLQPELDSF': 0.82125, 'DISGINASVVNIQKEIDRLN': 0.811875, 'ISGINASVVNIQKEIDRLNE': 0.855625, 'SGINASVVNIQKEIDRLNEV': 0.829375, 'LQDVVNQNAQALNTLVKQLSS': 0.803125, 'SVLNDILSRLDKVEAEVQIDR': 0.80625, 'GDISGINASVVNIQKEIDRLN': 0.818125, 'DISGINASVVNIQKEIDRLNE': 0.815625, 'SSVLNDILSRLDKVEAEVQIDR': 0.80125, 'SRLDKVEAEVQIDRLITGRLQSL': 0.8025}\n"
          ],
          "name": "stdout"
        }
      ]
    },
    {
      "cell_type": "markdown",
      "metadata": {
        "id": "5VONDxQEDahq"
      },
      "source": [
        "Epitope Locations:"
      ]
    },
    {
      "cell_type": "code",
      "metadata": {
        "colab": {
          "base_uri": "https://localhost:8080/"
        },
        "id": "ZZ-8QwM1ooHJ",
        "outputId": "2e1f02a5-14fc-4351-d3ac-313b9e542696"
      },
      "source": [
        "s1 = \"QFCNDP\"\n",
        "s2 = \"AWNSNN\"\n",
        "s3 = \"GYQPYRV\"\n",
        "s4 = \"PFAMQMAYRFNGIGVTQ\"\n",
        "spikeseq = \"MFVFLVLLPLVSSQCVNLTTRTQLPPAYTNSFTRGVYYPDKVFRSSVLHSTQDLFLPFFSNVTWFHAIHVSGTNGTKRFDNPVLPFNDGVYFASTEKSNIIRGWIFGTTLDSKTQSLLIVNNATNVVIKVCEFQFCNDPFLGVYYHKNNKSWMESEFRVYSSANNCTFEYVSQPFLMDLEGKQGNFKNLREFVFKNIDGYFKIYSKHTPINLVRDLPQGFSALEPLVDLPIGINITRFQTLLALHRSYLTPGDSSSGWTAGAAAYYVGYLQPRTFLLKYENGTITDAVDCALDPLSETKCTLKSFTVEKGIYQTSNFRVQPTESIVRFPNITNLCPFGEVFNATRFASVYAWNRKRISNCVADYSVLYNSASFSTFKCYGVSPTKLNDLCFTNVYADSFVIRGDEVRQIAPGQTGKIADYNYKLPDDFTGCVIAWNSNNLDSKVGGNYNYLYRLFRKSNLKPFERDISTEIYQAGSTPCNGVEGFNCYFPLQSYGFQPTNGVGYQPYRVVVLSFELLHAPATVCGPKKSTNLVKNKCVNFNFNGLTGTGVLTESNKKFLPFQQFGRDIADTTDAVRDPQTLEILDITPCSFGGVSVITPGTNTSNQVAVLYQDVNCTEVPVAIHADQLTPTWRVYSTGSNVFQTRAGCLIGAEHVNNSYECDIPIGAGICASYQTQTNSPRRARSVASQSIIAYTMSLGAENSVAYSNNSIAIPTNFTISVTTEILPVSMTKTSVDCTMYICGDSTECSNLLLQYGSFCTQLNRALTGIAVEQDKNTQEVFAQVKQIYKTPPIKDFGGFNFSQILPDPSKPSKRSFIEDLLFNKVTLADAGFIKQYGDCLGDIAARDLICAQKFNGLTVLPPLLTDEMIAQYTSALLAGTITSGWTFGAGAALQIPFAMQMAYRFNGIGVTQNVLYENQKLIANQFNSAIGKIQDSLSSTASALGKLQDVVNQNAQALNTLVKQLSSNFGAISSVLNDILSRLDKVEAEVQIDRLITGRLQSLQTYVTQQLIRAAEIRASANLAATKMSECVLGQSKRVDFCGKGYHLMSFPQSAPHGVVFLHVTYVPAQEKNFTTAPAICHDGKAHFPREGVFVSNGTHWFVTQRNFYEPQIITTDNTFVSGNCDVVIGIVNNTVYDPLQPELDSFKEELDKYFKNHTSPDVDLGDISGINASVVNIQKEIDRLNEVAKNLNESLIDLQELGKYEQYIKWPWYIWLGFIAGLIAIVMVTIMLCCMTSCCSCLKGCCSCGSCCKFDEDDSEPVLKGVKLHYT\"\n",
        "s1_loc = spikeseq.find(s1)\n",
        "print(\"S1 IN \"+ str(s1_loc)+ \": \" + str(s1_loc+len(s1)) )\n",
        "s2_loc = spikeseq.find(s2)\n",
        "print(\"S2 IN \"+ str(s2_loc)+ \":\" + str(s2_loc+len(s2)) )\n",
        "s3_loc = spikeseq.find(s3)\n",
        "print(\"S3 IN \"+ str(s3_loc) +\":\" + str(s3_loc+len(s3)) )\n",
        "s4_loc = spikeseq.find(s4)\n",
        "print(\"S4 IN \"+ str(s4_loc) +\":\" + str(s4_loc+len(s4)) )\n",
        "block = ['A', 'R', 'N', 'D', 'C', 'E', 'Q', 'G', 'H', 'I', 'L', 'K', 'M', 'F', 'P', 'S', 'T', 'W', 'Y', 'V']\n",
        "all_comb = list(product(block, repeat=2))\n",
        "\n",
        "def dict_pairs(pairs):\n",
        "  index_pairs = {}\n",
        "  for i, pair in enumerate(pairs):\n",
        "    index_pairs[pair] = i\n",
        "  return index_pairs\n",
        "pair_d = dict_pairs(all_comb)\n",
        "def pairs(lst, k=2):\n",
        "    return list(zip(*[lst[i:] for i in range(k)]))\n",
        "def createMatrix(seq, dict_p):\n",
        "  protein = ProteinAnalysis(seq)\n",
        "  charge = protein.charge_at_pH(7.4)\n",
        "  print(\"Charge \" + str(charge))\n",
        "  gravy_score = protein.gravy() \n",
        "  print(\"Gravy \" + str(gravy_score))\n",
        "  instability_index = protein.instability_index()\n",
        "  print(\"Instability Index \" + str(instability_index))\n",
        "print(\"QFCNDP\")\n",
        "createMatrix(s1, pair_d)\n",
        "print(s2)\n",
        "createMatrix(s2, pair_d)\n",
        "print(s3)\n",
        "createMatrix(s3, pair_d)\n",
        "print(s4)\n",
        "createMatrix(s4, pair_d)\n"
      ],
      "execution_count": null,
      "outputs": [
        {
          "output_type": "stream",
          "text": [
            "S1 IN 133: 139\n",
            "S2 IN 433:439\n",
            "S3 IN 502:509\n",
            "S4 IN 895:912\n",
            "QFCNDP\n",
            "Charge -1.4666040158283817\n",
            "Gravy -1.1333333333333335\n",
            "Instability Index -4.233333333333333\n",
            "AWNSNN\n",
            "Charge -0.39219770206852334\n",
            "Gravy -1.7333333333333334\n",
            "Instability Index 28.900000000000002\n",
            "GYQPYRV\n",
            "Charge 0.5524165639990046\n",
            "Gravy -1.2000000000000004\n",
            "Instability Index -0.1999999999999983\n",
            "PFAMQMAYRFNGIGVTQ\n",
            "Charge 0.8987973520256656\n",
            "Gravy 0.13529411764705887\n",
            "Instability Index -9.647058823529411\n"
          ],
          "name": "stdout"
        }
      ]
    },
    {
      "cell_type": "markdown",
      "metadata": {
        "id": "VvJ3a4wXNJCL"
      },
      "source": [
        "Plot Importance Feature Plot:\n",
        "\n",
        "---\n",
        "\n"
      ]
    },
    {
      "cell_type": "code",
      "metadata": {
        "colab": {
          "base_uri": "https://localhost:8080/",
          "height": 500
        },
        "id": "RlSv89E05qD2",
        "outputId": "98bd5661-cf83-46b5-b114-093ece533742"
      },
      "source": [
        "import matplotlib.pyplot as plt\n",
        "fig_size = plt.rcParams[\"figure.figsize\"]\n",
        "fig_size[0] = 25\n",
        "fig_size[1] = 8\n",
        "plt.rcParams[\"figure.figsize\"] = fig_size\n",
        "plt.rcParams.update({'font.size': 22})\n",
        "feature_list = list(newdf.columns)\n",
        "#print(feature_list)\n",
        "feature_dict = {}\n",
        "for i, val in enumerate(feature_list):\n",
        "  feature_dict[i] = val\n",
        "#print(feature_dict)\n",
        "importances = rf.feature_importances_\n",
        "std = np.std([tree.feature_importances_ for tree in rf.estimators_],\n",
        "             axis=0)\n",
        "indices = np.argsort(importances)[::-1]\n",
        "feature_imp = pd.Series(rf.feature_importances_,index=feature_list).sort_values(ascending=False)\n",
        "X = train_features[:][400:]\n",
        "X = X[:][400:]\n",
        "top = importances[indices]\n",
        "top = top[:4]\n",
        "# Print the feature ranking\n",
        "print(\"Feature ranking:\")\n",
        "name_indices = []\n",
        "for f in range(0,4):\n",
        "    print(\"%d. feature %s (%f)\" % (f + 1, feature_dict[indices[f]], importances[indices[f]]))\n",
        "    \n",
        "for i in indices:\n",
        "  name_indices.append(feature_dict[i])\n",
        "name_indices = np.array(name_indices)\n",
        "# Plot the impurity-based feature importances of the forest\n",
        "plt.figure()\n",
        "colors = ['y','r','b']\n",
        "plt.title(\"Top Feature Importances\")\n",
        "plt.bar(range(4), top,\n",
        "        color=['forestgreen','b','orange','palevioletred'], yerr=std[indices][:4], align=\"center\")\n",
        "plt.xticks(range(4), name_indices)\n",
        "plt.xlim([-1, 4])\n",
        "plt.savefig('importance_plot.png', dpi=360, facecolor='w', edgecolor='w')\n",
        "plt.show()\n",
        "\n"
      ],
      "execution_count": null,
      "outputs": [
        {
          "output_type": "stream",
          "text": [
            "Feature ranking:\n",
            "1. feature gravy (0.031224)\n",
            "2. feature charge (0.027533)\n",
            "3. feature stability (0.026983)\n",
            "4. feature ('A', 'K') (0.007057)\n"
          ],
          "name": "stdout"
        },
        {
          "output_type": "display_data",
          "data": {
            "image/png": "[encoded data removed]",
            "text/plain": [
              "<Figure size 1800x576 with 1 Axes>"
            ]
          },
          "metadata": {
            "tags": [],
            "needs_background": "light"
          }
        }
      ]
    }
  ]
}